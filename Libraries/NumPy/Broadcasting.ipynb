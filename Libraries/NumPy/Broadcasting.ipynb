{
 "cells": [
  {
   "cell_type": "code",
   "execution_count": 2,
   "id": "16ca9217-d518-4bc6-a6c7-974dd37f863b",
   "metadata": {},
   "outputs": [],
   "source": [
    "import numpy as np"
   ]
  },
  {
   "cell_type": "code",
   "execution_count": 29,
   "id": "3cac14dd-d055-440c-b115-776d7fe7acd0",
   "metadata": {},
   "outputs": [
    {
     "ename": "SyntaxError",
     "evalue": "invalid syntax (918799382.py, line 2)",
     "output_type": "error",
     "traceback": [
      "\u001b[1;36m  Cell \u001b[1;32mIn[29], line 2\u001b[1;36m\u001b[0m\n\u001b[1;33m    The term broadcasting refers to the ability of NumPy to treat arrays of different shapes during arithmetic operations.\u001b[0m\n\u001b[1;37m        ^\u001b[0m\n\u001b[1;31mSyntaxError\u001b[0m\u001b[1;31m:\u001b[0m invalid syntax\n"
     ]
    }
   ],
   "source": [
    "###Broadcasting The term broadcasting refers to the ability of NumPy to treat arrays of different shapes during arithmetic operations. \n",
    "###Arithmetic operations on arrays are usually done on corresponding elements.\n",
    "##If two arrays are of exactly the same shape, then these operations are smoothly performed. \n",
    "##If the dimensions of two arrays are dissimilar, element-to-element operations are not possible.\n",
    "##However, operations on arrays of non-similar shapes is still possible in NumPy, because of the broadcasting capability. \n",
    "###The smaller array is broadcast to the size of the larger array so that they have compatible shapes.###"
   ]
  },
  {
   "cell_type": "code",
   "execution_count": 4,
   "id": "1f6e5e7a-54fb-4c54-8856-4e4a0ea47908",
   "metadata": {},
   "outputs": [
    {
     "name": "stdout",
     "output_type": "stream",
     "text": [
      "\n",
      "arr1 + 10: [11 12 13]\n"
     ]
    }
   ],
   "source": [
    "# === Broadcasting ===\n",
    "\n",
    "# Example 1: Scalar + array\n",
    "arr1 = np.array([1, 2, 3])\n",
    "print(\"\\narr1 + 10:\", arr1 + 10)"
   ]
  },
  {
   "cell_type": "code",
   "execution_count": 5,
   "id": "8f54e96d-bb58-46ef-a478-715ad4b20524",
   "metadata": {},
   "outputs": [
    {
     "name": "stdout",
     "output_type": "stream",
     "text": [
      "\n",
      "A + B:\n",
      " [[11 22 33]\n",
      " [14 25 36]]\n"
     ]
    }
   ],
   "source": [
    "# Example 2: 2D + 1D (row-wise broadcasting)\n",
    "A = np.array([[1, 2, 3],\n",
    "              [4, 5, 6]])\n",
    "B = np.array([10, 20, 30])\n",
    "print(\"\\nA + B:\\n\", A + B)"
   ]
  },
  {
   "cell_type": "code",
   "execution_count": 6,
   "id": "661e563d-6510-4138-b011-596e8a810a5c",
   "metadata": {},
   "outputs": [
    {
     "name": "stdout",
     "output_type": "stream",
     "text": [
      "\n",
      "A + C:\n",
      " [[11 12 13]\n",
      " [24 25 26]]\n"
     ]
    }
   ],
   "source": [
    "# Example 3: 2D + 2D (column-wise broadcasting)\n",
    "C = np.array([[10],\n",
    "              [20]])\n",
    "print(\"\\nA + C:\\n\", A + C)"
   ]
  },
  {
   "cell_type": "code",
   "execution_count": 7,
   "id": "b80a620b-cddd-4cf4-8c0b-e6bdbc23e89b",
   "metadata": {},
   "outputs": [
    {
     "name": "stdout",
     "output_type": "stream",
     "text": [
      "\n",
      "A + D: Broadcasting Error: operands could not be broadcast together with shapes (2,3) (2,) \n"
     ]
    }
   ],
   "source": [
    "\n",
    "# Example 4: Incompatible shapes (will throw error if uncommented)\n",
    "try:\n",
    "    D = np.array([100, 200])\n",
    "    print(\"\\nA + D:\\n\", A + D)\n",
    "except ValueError as e:\n",
    "    print(\"\\nA + D: Broadcasting Error:\", e)"
   ]
  },
  {
   "cell_type": "code",
   "execution_count": 8,
   "id": "42b11797-8065-4c55-bdee-b098557235e3",
   "metadata": {},
   "outputs": [
    {
     "name": "stdout",
     "output_type": "stream",
     "text": [
      "[0 1 2 3]\n",
      "[[ 0  1  2  3]\n",
      " [ 4  5  6  7]\n",
      " [ 8  9 10 11]\n",
      " [12 13 14 15]\n",
      " [16 17 18 19]]\n"
     ]
    }
   ],
   "source": [
    "# If they are of different dimensions \n",
    "D=np.arange(4) \n",
    "E=np.arange(20).reshape(5,4) \n",
    "print(D) \n",
    "print(E)"
   ]
  },
  {
   "cell_type": "code",
   "execution_count": 9,
   "id": "a2d56b4f-7acb-4c8a-910c-d18f77029aa5",
   "metadata": {},
   "outputs": [
    {
     "data": {
      "text/plain": [
       "array([[ 8, 10, 12, 14],\n",
       "       [16, 18, 20, 22]])"
      ]
     },
     "execution_count": 9,
     "metadata": {},
     "output_type": "execute_result"
    }
   ],
   "source": [
    "#If x-m and yen, operation will take place \n",
    "a1=np.arange(8).reshape(2,4) \n",
    "a2=np.arange(8,16).reshape (2,4) \n",
    "a1 + a2 \n"
   ]
  },
  {
   "cell_type": "code",
   "execution_count": 11,
   "id": "f8d2ddbf-35a7-4724-a967-dcb75fb5bbdf",
   "metadata": {},
   "outputs": [
    {
     "name": "stdout",
     "output_type": "stream",
     "text": [
      "[[0 1 2]] [[ 0  1  2]\n",
      " [ 3  4  5]\n",
      " [ 6  7  8]\n",
      " [ 9 10 11]]\n"
     ]
    }
   ],
   "source": [
    "#Tf x=1 and yen then also operation will take place (Same Dimension) \n",
    "a3=np.arange(3).reshape(1,3) \n",
    "a4=np.arange(12).reshape(4,3) \n",
    "print(a3,a4)"
   ]
  },
  {
   "cell_type": "code",
   "execution_count": 14,
   "id": "f2f2bdf5-1ed8-4aea-a6a5-b1831bc0ec8b",
   "metadata": {},
   "outputs": [
    {
     "name": "stdout",
     "output_type": "stream",
     "text": [
      "[[0 1 2]]\n",
      "[[ 0  1  2  3]\n",
      " [ 4  5  6  7]\n",
      " [ 8  9 10 11]\n",
      " [12 13 14 15]]\n"
     ]
    }
   ],
   "source": [
    "#if x=1 and y!-n then also operation will not take place Error;;;;;\n",
    "a5=np.arange(3).reshape(1,3) \n",
    "a6=np.arange(16).reshape(4,4) \n",
    "print(a5) \n",
    "print(a6)"
   ]
  },
  {
   "cell_type": "code",
   "execution_count": 15,
   "id": "9b095995-6e79-4585-bb17-75abf04b1c49",
   "metadata": {},
   "outputs": [
    {
     "ename": "ValueError",
     "evalue": "operands could not be broadcast together with shapes (1,3) (4,4) ",
     "output_type": "error",
     "traceback": [
      "\u001b[1;31m---------------------------------------------------------------------------\u001b[0m",
      "\u001b[1;31mValueError\u001b[0m                                Traceback (most recent call last)",
      "Cell \u001b[1;32mIn[15], line 1\u001b[0m\n\u001b[1;32m----> 1\u001b[0m \u001b[38;5;28mprint\u001b[39m(\u001b[43ma5\u001b[49m\u001b[38;5;241;43m+\u001b[39;49m\u001b[43ma6\u001b[49m)\n",
      "\u001b[1;31mValueError\u001b[0m: operands could not be broadcast together with shapes (1,3) (4,4) "
     ]
    }
   ],
   "source": [
    "print(a5+a6)"
   ]
  },
  {
   "cell_type": "code",
   "execution_count": 17,
   "id": "c19d4e71-9b00-4a2e-8d02-586b0f122ad5",
   "metadata": {},
   "outputs": [
    {
     "name": "stdout",
     "output_type": "stream",
     "text": [
      "[[0 1 2]]\n",
      "[[0]\n",
      " [1]\n",
      " [2]]\n"
     ]
    }
   ],
   "source": [
    "# If x=1 und n=1 then y==m, operution to Luke place \n",
    "a7=np.arange(3).reshape(1,3) \n",
    "a8=np.arange(3).reshape(3,1) \n",
    "print(a7) \n",
    "print(a8)"
   ]
  },
  {
   "cell_type": "code",
   "execution_count": 18,
   "id": "4ad30346-6601-438a-9689-4e5d1179530e",
   "metadata": {},
   "outputs": [
    {
     "name": "stdout",
     "output_type": "stream",
     "text": [
      "[[0 1 2]\n",
      " [1 2 3]\n",
      " [2 3 4]]\n"
     ]
    }
   ],
   "source": [
    "print(a7+a8)"
   ]
  },
  {
   "cell_type": "code",
   "execution_count": 22,
   "id": "73fc07d0-a6e8-424d-8908-51c507c02290",
   "metadata": {},
   "outputs": [
    {
     "name": "stdout",
     "output_type": "stream",
     "text": [
      "[[0]]\n",
      "[[ 0  1  2  3  4]\n",
      " [ 5  6  7  8  9]\n",
      " [10 11 12 13 14]\n",
      " [15 16 17 18 19]]\n"
     ]
    }
   ],
   "source": [
    "#If x-1 and y-1, then the operation will take place no matter what \n",
    "a9=np.arange(1).reshape(1,1)\n",
    "a10=np.arange(20).reshape(4,5) \n",
    "print(a9) \n",
    "print(a10)"
   ]
  },
  {
   "cell_type": "code",
   "execution_count": 23,
   "id": "374617ef-0bd4-4c37-a6b2-1af6b47237e8",
   "metadata": {},
   "outputs": [
    {
     "name": "stdout",
     "output_type": "stream",
     "text": [
      "[[ 0  1  2  3  4]\n",
      " [ 5  6  7  8  9]\n",
      " [10 11 12 13 14]\n",
      " [15 16 17 18 19]]\n"
     ]
    }
   ],
   "source": [
    "print(a9+a10)"
   ]
  },
  {
   "cell_type": "code",
   "execution_count": 27,
   "id": "45ba079d-eb73-42ce-9296-4d0c7a889a5a",
   "metadata": {},
   "outputs": [
    {
     "name": "stdout",
     "output_type": "stream",
     "text": [
      "[0 1 2 3]\n",
      "[[ 0  1  2  3]\n",
      " [ 4  5  6  7]\n",
      " [ 8  9 10 11]\n",
      " [12 13 14 15]\n",
      " [16 17 18 19]]\n"
     ]
    }
   ],
   "source": [
    "# If they are of different dimensions \n",
    "a11=np.arange(4) \n",
    "a12=np.arange(20).reshape(5,4) \n",
    "print(a11) \n",
    "print(a12)"
   ]
  },
  {
   "cell_type": "code",
   "execution_count": 28,
   "id": "8a0bc533-0bf3-49ad-b0cf-060124cd6eb6",
   "metadata": {},
   "outputs": [
    {
     "name": "stdout",
     "output_type": "stream",
     "text": [
      "[[ 0  2  4  6]\n",
      " [ 4  6  8 10]\n",
      " [ 8 10 12 14]\n",
      " [12 14 16 18]\n",
      " [16 18 20 22]]\n"
     ]
    }
   ],
   "source": [
    "print(a11+a12)"
   ]
  },
  {
   "cell_type": "code",
   "execution_count": null,
   "id": "941ddd10-aed8-420a-8e13-bb3384f427c5",
   "metadata": {},
   "outputs": [],
   "source": []
  }
 ],
 "metadata": {
  "kernelspec": {
   "display_name": "Python 3 (ipykernel)",
   "language": "python",
   "name": "python3"
  },
  "language_info": {
   "codemirror_mode": {
    "name": "ipython",
    "version": 3
   },
   "file_extension": ".py",
   "mimetype": "text/x-python",
   "name": "python",
   "nbconvert_exporter": "python",
   "pygments_lexer": "ipython3",
   "version": "3.13.3"
  }
 },
 "nbformat": 4,
 "nbformat_minor": 5
}
