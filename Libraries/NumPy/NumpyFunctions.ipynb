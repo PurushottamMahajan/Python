{
 "cells": [
  {
   "cell_type": "code",
   "execution_count": 1,
   "id": "f0678140-6ab3-4738-be91-19045c0f44b1",
   "metadata": {},
   "outputs": [],
   "source": [
    "import numpy as np"
   ]
  },
  {
   "cell_type": "code",
   "execution_count": 3,
   "id": "794ba616-df0d-44ba-9c5f-7bdf82661f31",
   "metadata": {},
   "outputs": [
    {
     "data": {
      "text/plain": [
       "0.004555635983570339"
      ]
     },
     "execution_count": 3,
     "metadata": {},
     "output_type": "execute_result"
    }
   ],
   "source": [
    "np.random.random()"
   ]
  },
  {
   "cell_type": "code",
   "execution_count": 4,
   "id": "ef5c4cd4-132f-4c2c-9757-ab3175c0365f",
   "metadata": {},
   "outputs": [
    {
     "data": {
      "text/plain": [
       "0.417022004702574"
      ]
     },
     "execution_count": 4,
     "metadata": {},
     "output_type": "execute_result"
    }
   ],
   "source": [
    "np.random.seed(1)\n",
    "np.random.random()"
   ]
  },
  {
   "cell_type": "code",
   "execution_count": 10,
   "id": "f5b97068-1a35-42cd-96c3-2d6c8d7c2b78",
   "metadata": {},
   "outputs": [
    {
     "data": {
      "text/plain": [
       "2.3725204227553416"
      ]
     },
     "execution_count": 10,
     "metadata": {},
     "output_type": "execute_result"
    }
   ],
   "source": [
    "np.random.uniform(2,4)"
   ]
  },
  {
   "cell_type": "code",
   "execution_count": 13,
   "id": "58eec78b-9f1c-48d1-a428-3f24257d15ad",
   "metadata": {},
   "outputs": [
    {
     "data": {
      "text/plain": [
       "array([[2.28077388, 2.39620298, 3.60148914, 3.93652315, 2.62684836],\n",
       "       [3.38464523, 3.7527783 , 3.78921333, 2.17008842, 2.07810957]])"
      ]
     },
     "execution_count": 13,
     "metadata": {},
     "output_type": "execute_result"
    }
   ],
   "source": [
    "np.random.uniform(2,4,10).reshape(2,5)"
   ]
  },
  {
   "cell_type": "code",
   "execution_count": 24,
   "id": "ed19cd3f-a436-40f3-85bc-12a6ca822571",
   "metadata": {},
   "outputs": [
    {
     "data": {
      "text/plain": [
       "array([[ 5,  6, 26, 14, 28],\n",
       "       [18, 20, 17,  2,  6],\n",
       "       [27, 36, 25,  9, 28]], dtype=int32)"
      ]
     },
     "execution_count": 24,
     "metadata": {},
     "output_type": "execute_result"
    }
   ],
   "source": [
    "np.random.randint(2,40,15).reshape(3,5)"
   ]
  },
  {
   "cell_type": "code",
   "execution_count": 31,
   "id": "fd017aeb-081a-468f-ba8b-8f7d5d0e3afc",
   "metadata": {},
   "outputs": [],
   "source": [
    "a=np.random.randint(9,39,7)"
   ]
  },
  {
   "cell_type": "code",
   "execution_count": 32,
   "id": "d27c3186-c6b2-4544-a150-e0baefbf8a02",
   "metadata": {},
   "outputs": [
    {
     "data": {
      "text/plain": [
       "array([17, 31, 18, 12, 16, 32, 38], dtype=int32)"
      ]
     },
     "execution_count": 32,
     "metadata": {},
     "output_type": "execute_result"
    }
   ],
   "source": [
    "a"
   ]
  },
  {
   "cell_type": "code",
   "execution_count": 33,
   "id": "a0132cc6-048a-4b3d-9505-77521ed2dbae",
   "metadata": {},
   "outputs": [
    {
     "data": {
      "text/plain": [
       "np.int32(38)"
      ]
     },
     "execution_count": 33,
     "metadata": {},
     "output_type": "execute_result"
    }
   ],
   "source": [
    "np.max(a)"
   ]
  },
  {
   "cell_type": "code",
   "execution_count": 34,
   "id": "aa63fedc-73f9-4a89-ac31-e2e60b9ad51c",
   "metadata": {},
   "outputs": [
    {
     "data": {
      "text/plain": [
       "np.int32(12)"
      ]
     },
     "execution_count": 34,
     "metadata": {},
     "output_type": "execute_result"
    }
   ],
   "source": [
    "np.min(a)"
   ]
  },
  {
   "cell_type": "code",
   "execution_count": 35,
   "id": "09243be3-e1ea-4d36-b83c-7844732fea08",
   "metadata": {},
   "outputs": [
    {
     "data": {
      "text/plain": [
       "np.int64(6)"
      ]
     },
     "execution_count": 35,
     "metadata": {},
     "output_type": "execute_result"
    }
   ],
   "source": [
    "np.argmax(a)"
   ]
  },
  {
   "cell_type": "code",
   "execution_count": 36,
   "id": "ae5cd21b-6378-42b7-96d2-1d9199280af3",
   "metadata": {},
   "outputs": [
    {
     "data": {
      "text/plain": [
       "np.int64(3)"
      ]
     },
     "execution_count": 36,
     "metadata": {},
     "output_type": "execute_result"
    }
   ],
   "source": [
    "np.argmin(a)"
   ]
  },
  {
   "cell_type": "code",
   "execution_count": 37,
   "id": "4b00926d-a102-408e-af28-73a341188211",
   "metadata": {},
   "outputs": [],
   "source": [
    "a=np.random.randint(9,39,7)"
   ]
  },
  {
   "cell_type": "code",
   "execution_count": 38,
   "id": "59cfaedd-fd25-480f-b381-9456f26bef23",
   "metadata": {},
   "outputs": [
    {
     "data": {
      "text/plain": [
       "array([13, 36, 14, 34, 28, 15, 17], dtype=int32)"
      ]
     },
     "execution_count": 38,
     "metadata": {},
     "output_type": "execute_result"
    }
   ],
   "source": [
    "a"
   ]
  },
  {
   "cell_type": "code",
   "execution_count": 39,
   "id": "65cdf02b-f30a-4dd6-8cd1-7123d11e0f44",
   "metadata": {},
   "outputs": [],
   "source": [
    "a[a%2==1]=-1"
   ]
  },
  {
   "cell_type": "code",
   "execution_count": 40,
   "id": "dbd612d1-a17c-4ba3-b920-e3c7f7414bd1",
   "metadata": {},
   "outputs": [
    {
     "data": {
      "text/plain": [
       "array([-1, 36, 14, 34, 28, -1, -1], dtype=int32)"
      ]
     },
     "execution_count": 40,
     "metadata": {},
     "output_type": "execute_result"
    }
   ],
   "source": [
    "a"
   ]
  },
  {
   "cell_type": "code",
   "execution_count": 41,
   "id": "0062fc0c-c458-407a-b193-5652708d030f",
   "metadata": {},
   "outputs": [],
   "source": [
    "a=np.random.randint(9,39,7)"
   ]
  },
  {
   "cell_type": "code",
   "execution_count": 42,
   "id": "11d8986f-584e-445b-b338-261fde745602",
   "metadata": {},
   "outputs": [
    {
     "data": {
      "text/plain": [
       "array([ 9, 11, 19, 32, 24, 24, 32], dtype=int32)"
      ]
     },
     "execution_count": 42,
     "metadata": {},
     "output_type": "execute_result"
    }
   ],
   "source": [
    "a"
   ]
  },
  {
   "cell_type": "code",
   "execution_count": 46,
   "id": "bc30bbb8-89e9-4d90-8168-02c28e1be1ac",
   "metadata": {},
   "outputs": [
    {
     "data": {
      "text/plain": [
       "array([-1, -1, -1, 32, 24, 24, 32], dtype=int32)"
      ]
     },
     "execution_count": 46,
     "metadata": {},
     "output_type": "execute_result"
    }
   ],
   "source": [
    "b=np.where(a%2==1,-1,a)\n",
    "b"
   ]
  },
  {
   "cell_type": "code",
   "execution_count": 47,
   "id": "57a26500-cfdb-44c7-991b-1f8ef29e6e30",
   "metadata": {},
   "outputs": [
    {
     "data": {
      "text/plain": [
       "array([ 9, 11, 19, 32, 24, 24, 32], dtype=int32)"
      ]
     },
     "execution_count": 47,
     "metadata": {},
     "output_type": "execute_result"
    }
   ],
   "source": [
    "a"
   ]
  },
  {
   "cell_type": "code",
   "execution_count": 48,
   "id": "2182602e-4d74-435f-98cd-7d2d293b0807",
   "metadata": {},
   "outputs": [],
   "source": [
    "a=np.random.randint(9,39,10)"
   ]
  },
  {
   "cell_type": "code",
   "execution_count": 49,
   "id": "e71fb0ce-99cc-4ecb-a3a7-22830d5365e3",
   "metadata": {},
   "outputs": [
    {
     "data": {
      "text/plain": [
       "array([34, 16, 28, 37, 19, 23,  9, 33, 32, 32], dtype=int32)"
      ]
     },
     "execution_count": 49,
     "metadata": {},
     "output_type": "execute_result"
    }
   ],
   "source": [
    "a"
   ]
  },
  {
   "cell_type": "code",
   "execution_count": 51,
   "id": "4d3a53f6-ebc2-48a2-a28b-3d30da7e2f8a",
   "metadata": {},
   "outputs": [
    {
     "data": {
      "text/plain": [
       "array([ 9, 16, 19, 23, 28, 32, 32, 33, 34, 37], dtype=int32)"
      ]
     },
     "execution_count": 51,
     "metadata": {},
     "output_type": "execute_result"
    }
   ],
   "source": [
    "a=np.sort(a)\n",
    "a"
   ]
  },
  {
   "cell_type": "code",
   "execution_count": 53,
   "id": "cf88e97c-ddd3-41ec-9189-ea97a2292a2a",
   "metadata": {},
   "outputs": [
    {
     "data": {
      "text/plain": [
       "np.float64(30.0)"
      ]
     },
     "execution_count": 53,
     "metadata": {},
     "output_type": "execute_result"
    }
   ],
   "source": [
    "np.percentile(a,50)"
   ]
  },
  {
   "cell_type": "code",
   "execution_count": null,
   "id": "77ee789e-8ec7-4f42-a02d-016fe9d1b760",
   "metadata": {},
   "outputs": [],
   "source": []
  }
 ],
 "metadata": {
  "kernelspec": {
   "display_name": "Python 3 (ipykernel)",
   "language": "python",
   "name": "python3"
  },
  "language_info": {
   "codemirror_mode": {
    "name": "ipython",
    "version": 3
   },
   "file_extension": ".py",
   "mimetype": "text/x-python",
   "name": "python",
   "nbconvert_exporter": "python",
   "pygments_lexer": "ipython3",
   "version": "3.13.3"
  }
 },
 "nbformat": 4,
 "nbformat_minor": 5
}
