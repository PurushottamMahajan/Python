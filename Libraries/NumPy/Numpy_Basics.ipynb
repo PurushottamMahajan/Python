{
 "cells": [
  {
   "cell_type": "code",
   "execution_count": 1,
   "id": "4aae30bc-21a3-4e9a-9a42-7e25de47a60a",
   "metadata": {},
   "outputs": [
    {
     "name": "stdout",
     "output_type": "stream",
     "text": [
      "Hello World\n"
     ]
    }
   ],
   "source": [
    "print(\"Hello World\")"
   ]
  },
  {
   "cell_type": "code",
   "execution_count": 2,
   "id": "481ee38c-4e6c-4fd3-85b6-61c22e030a80",
   "metadata": {},
   "outputs": [],
   "source": [
    "#Creating Numpy n-d Arrays\n",
    "import numpy as np\n",
    "arr1= np.array([1,2,3,4,5,6])"
   ]
  },
  {
   "cell_type": "code",
   "execution_count": 8,
   "id": "a75be8fb-af8a-47b8-8ad9-3a602fc1e657",
   "metadata": {},
   "outputs": [
    {
     "data": {
      "text/plain": [
       "numpy.ndarray"
      ]
     },
     "execution_count": 8,
     "metadata": {},
     "output_type": "execute_result"
    }
   ],
   "source": [
    "type(arr1)"
   ]
  },
  {
   "cell_type": "code",
   "execution_count": 3,
   "id": "224845fb-b058-4b08-988c-0688d81b6716",
   "metadata": {},
   "outputs": [
    {
     "data": {
      "text/plain": [
       "array([1, 2, 3, 4, 5, 6])"
      ]
     },
     "execution_count": 3,
     "metadata": {},
     "output_type": "execute_result"
    }
   ],
   "source": [
    "arr1"
   ]
  },
  {
   "cell_type": "code",
   "execution_count": 118,
   "id": "df4d684c-09cb-4dc9-8edd-83145606fab8",
   "metadata": {},
   "outputs": [],
   "source": [
    "arr2= np.zeros((2,3))"
   ]
  },
  {
   "cell_type": "code",
   "execution_count": 119,
   "id": "4ee74a83-1ecd-4feb-99a4-76f3b18449e7",
   "metadata": {},
   "outputs": [
    {
     "data": {
      "text/plain": [
       "8"
      ]
     },
     "execution_count": 119,
     "metadata": {},
     "output_type": "execute_result"
    }
   ],
   "source": [
    "arr2.itemsize"
   ]
  },
  {
   "cell_type": "code",
   "execution_count": 120,
   "id": "32e3d40a-937a-4a3f-b939-8d352aa83df2",
   "metadata": {},
   "outputs": [],
   "source": [
    "arr3= np.ones((2,3))"
   ]
  },
  {
   "cell_type": "code",
   "execution_count": 121,
   "id": "7cd2fbd2-720d-4189-9869-f3fac79e46b5",
   "metadata": {},
   "outputs": [
    {
     "data": {
      "text/plain": [
       "array([[1., 1., 1.],\n",
       "       [1., 1., 1.]])"
      ]
     },
     "execution_count": 121,
     "metadata": {},
     "output_type": "execute_result"
    }
   ],
   "source": [
    "arr3"
   ]
  },
  {
   "cell_type": "code",
   "execution_count": 123,
   "id": "f4b0d560-1c09-4fbf-b384-2d29d54aadef",
   "metadata": {},
   "outputs": [],
   "source": [
    "arr4=np.identity(5)"
   ]
  },
  {
   "cell_type": "code",
   "execution_count": 124,
   "id": "55c783f9-e8d8-4ce2-886a-ca37bdac210f",
   "metadata": {},
   "outputs": [
    {
     "data": {
      "text/plain": [
       "8"
      ]
     },
     "execution_count": 124,
     "metadata": {},
     "output_type": "execute_result"
    }
   ],
   "source": [
    "arr4.itemsize"
   ]
  },
  {
   "cell_type": "code",
   "execution_count": 125,
   "id": "4495a61e-7a7a-4297-9a77-fc53817ce0ad",
   "metadata": {},
   "outputs": [],
   "source": [
    "arr5=np.arange(20)"
   ]
  },
  {
   "cell_type": "code",
   "execution_count": 126,
   "id": "43248428-6a2f-45aa-9285-d965275c7d75",
   "metadata": {},
   "outputs": [
    {
     "data": {
      "text/plain": [
       "array([ 0,  1,  2,  3,  4,  5,  6,  7,  8,  9, 10, 11, 12, 13, 14, 15, 16,\n",
       "       17, 18, 19])"
      ]
     },
     "execution_count": 126,
     "metadata": {},
     "output_type": "execute_result"
    }
   ],
   "source": [
    "arr5"
   ]
  },
  {
   "cell_type": "code",
   "execution_count": 127,
   "id": "3fde685c-abf9-46ad-9fc7-230520103c98",
   "metadata": {},
   "outputs": [],
   "source": [
    "arr6=np.arange(11,21)"
   ]
  },
  {
   "cell_type": "code",
   "execution_count": 128,
   "id": "c6aff0e7-b164-43f5-bf0e-7ec44929adb9",
   "metadata": {},
   "outputs": [
    {
     "data": {
      "text/plain": [
       "array([11, 12, 13, 14, 15, 16, 17, 18, 19, 20])"
      ]
     },
     "execution_count": 128,
     "metadata": {},
     "output_type": "execute_result"
    }
   ],
   "source": [
    "arr6"
   ]
  },
  {
   "cell_type": "code",
   "execution_count": 129,
   "id": "2641afe5-be48-4880-bfff-7e2813471215",
   "metadata": {},
   "outputs": [],
   "source": [
    "arr7=np.arange(11,21,2)"
   ]
  },
  {
   "cell_type": "code",
   "execution_count": 131,
   "id": "40ac0e5c-c291-4095-912c-0c1c1771dfbd",
   "metadata": {},
   "outputs": [
    {
     "data": {
      "text/plain": [
       "array([11, 13, 15, 17, 19])"
      ]
     },
     "execution_count": 131,
     "metadata": {},
     "output_type": "execute_result"
    }
   ],
   "source": [
    "arr7"
   ]
  },
  {
   "cell_type": "code",
   "execution_count": 132,
   "id": "ecbe4184-5ff2-4569-8df5-9b5f5e15b82d",
   "metadata": {},
   "outputs": [],
   "source": [
    "arr8=np.linspace(10,20,10)"
   ]
  },
  {
   "cell_type": "code",
   "execution_count": 133,
   "id": "5133fb1b-2223-49c0-8421-ba2d4b6641d8",
   "metadata": {},
   "outputs": [
    {
     "data": {
      "text/plain": [
       "array([10.        , 11.11111111, 12.22222222, 13.33333333, 14.44444444,\n",
       "       15.55555556, 16.66666667, 17.77777778, 18.88888889, 20.        ])"
      ]
     },
     "execution_count": 133,
     "metadata": {},
     "output_type": "execute_result"
    }
   ],
   "source": [
    "arr8"
   ]
  },
  {
   "cell_type": "code",
   "execution_count": 135,
   "id": "1e4682ce-1671-41a3-a3ff-1389fe38b93a",
   "metadata": {},
   "outputs": [],
   "source": [
    "arr9=np.copy(arr1)"
   ]
  },
  {
   "cell_type": "code",
   "execution_count": 136,
   "id": "f4afbc39-8388-47c1-98da-9595ecde3cc1",
   "metadata": {},
   "outputs": [
    {
     "data": {
      "text/plain": [
       "array([1, 2, 3, 4, 5, 6])"
      ]
     },
     "execution_count": 136,
     "metadata": {},
     "output_type": "execute_result"
    }
   ],
   "source": [
    "arr9"
   ]
  },
  {
   "cell_type": "code",
   "execution_count": 137,
   "id": "b0920e2d-4baf-447b-989e-58e1bb62eeda",
   "metadata": {},
   "outputs": [
    {
     "data": {
      "text/plain": [
       "dtype('int64')"
      ]
     },
     "execution_count": 137,
     "metadata": {},
     "output_type": "execute_result"
    }
   ],
   "source": [
    "arr9.dtype"
   ]
  },
  {
   "cell_type": "code",
   "execution_count": 138,
   "id": "c6e8b3b1-9b78-4ff9-abe0-e950723c6191",
   "metadata": {},
   "outputs": [],
   "source": [
    "arr1=np.array([1,2,3,4,5,6])\n",
    "arr2= np.zeros((2,3))\n"
   ]
  },
  {
   "cell_type": "code",
   "execution_count": 139,
   "id": "293d5294-ddd6-413f-9a16-41e66eafeac4",
   "metadata": {},
   "outputs": [
    {
     "data": {
      "text/plain": [
       "(6,)"
      ]
     },
     "execution_count": 139,
     "metadata": {},
     "output_type": "execute_result"
    }
   ],
   "source": [
    "arr1.shape"
   ]
  },
  {
   "cell_type": "code",
   "execution_count": 140,
   "id": "516abe54-e5c4-4a60-8077-f555ed529afd",
   "metadata": {},
   "outputs": [
    {
     "data": {
      "text/plain": [
       "(2, 3)"
      ]
     },
     "execution_count": 140,
     "metadata": {},
     "output_type": "execute_result"
    }
   ],
   "source": [
    "arr2.shape"
   ]
  },
  {
   "cell_type": "code",
   "execution_count": 141,
   "id": "db8976bd-00a1-4cd1-8bb7-5c372589fb4f",
   "metadata": {},
   "outputs": [],
   "source": [
    "arr3=np.array([[[1,2],[3,4]],[[1,2],[3,4]]])"
   ]
  },
  {
   "cell_type": "code",
   "execution_count": 142,
   "id": "f8952083-084d-450d-8542-bf1f361f7638",
   "metadata": {},
   "outputs": [
    {
     "data": {
      "text/plain": [
       "(2, 2, 2)"
      ]
     },
     "execution_count": 142,
     "metadata": {},
     "output_type": "execute_result"
    }
   ],
   "source": [
    "arr3.shape"
   ]
  },
  {
   "cell_type": "code",
   "execution_count": 143,
   "id": "26631c89-cf56-4ddc-a12e-2dc195b59d6a",
   "metadata": {},
   "outputs": [
    {
     "data": {
      "text/plain": [
       "8"
      ]
     },
     "execution_count": 143,
     "metadata": {},
     "output_type": "execute_result"
    }
   ],
   "source": [
    "arr3.size"
   ]
  },
  {
   "cell_type": "code",
   "execution_count": 144,
   "id": "ba00dc2f-db45-482e-ac63-ef97e7950534",
   "metadata": {},
   "outputs": [
    {
     "data": {
      "text/plain": [
       "8"
      ]
     },
     "execution_count": 144,
     "metadata": {},
     "output_type": "execute_result"
    }
   ],
   "source": [
    "arr3.itemsize"
   ]
  },
  {
   "cell_type": "code",
   "execution_count": 145,
   "id": "974ab684-0e27-4a68-b6ec-b9a93e00e0a5",
   "metadata": {},
   "outputs": [
    {
     "data": {
      "text/plain": [
       "3"
      ]
     },
     "execution_count": 145,
     "metadata": {},
     "output_type": "execute_result"
    }
   ],
   "source": [
    "arr3.ndim"
   ]
  },
  {
   "cell_type": "code",
   "execution_count": 146,
   "id": "e697d09f-9aeb-45a9-ae3b-e8754495549c",
   "metadata": {},
   "outputs": [
    {
     "data": {
      "text/plain": [
       "2"
      ]
     },
     "execution_count": 146,
     "metadata": {},
     "output_type": "execute_result"
    }
   ],
   "source": [
    "arr2.ndim"
   ]
  },
  {
   "cell_type": "code",
   "execution_count": 147,
   "id": "d4d18ff2-2338-474e-80c0-33eae3cddd69",
   "metadata": {},
   "outputs": [
    {
     "data": {
      "text/plain": [
       "1"
      ]
     },
     "execution_count": 147,
     "metadata": {},
     "output_type": "execute_result"
    }
   ],
   "source": [
    "arr1.ndim"
   ]
  },
  {
   "cell_type": "code",
   "execution_count": 148,
   "id": "2e736f23-ed71-4c19-b0dc-646dc5f54ead",
   "metadata": {},
   "outputs": [
    {
     "data": {
      "text/plain": [
       "6"
      ]
     },
     "execution_count": 148,
     "metadata": {},
     "output_type": "execute_result"
    }
   ],
   "source": [
    "arr1.size"
   ]
  },
  {
   "cell_type": "code",
   "execution_count": 149,
   "id": "d81e58b7-13e6-459c-8469-762123635cbf",
   "metadata": {},
   "outputs": [
    {
     "data": {
      "text/plain": [
       "8"
      ]
     },
     "execution_count": 149,
     "metadata": {},
     "output_type": "execute_result"
    }
   ],
   "source": [
    "arr1.itemsize"
   ]
  },
  {
   "cell_type": "code",
   "execution_count": 150,
   "id": "66370394-6936-4c03-bec7-c7dfbb4e29e6",
   "metadata": {},
   "outputs": [
    {
     "data": {
      "text/plain": [
       "dtype('int64')"
      ]
     },
     "execution_count": 150,
     "metadata": {},
     "output_type": "execute_result"
    }
   ],
   "source": [
    "arr1.dtype"
   ]
  },
  {
   "cell_type": "code",
   "execution_count": 151,
   "id": "91b67d86-52b7-4de4-82ae-9a67d24eb456",
   "metadata": {},
   "outputs": [
    {
     "data": {
      "text/plain": [
       "array([[[1., 2.],\n",
       "        [3., 4.]],\n",
       "\n",
       "       [[1., 2.],\n",
       "        [3., 4.]]])"
      ]
     },
     "execution_count": 151,
     "metadata": {},
     "output_type": "execute_result"
    }
   ],
   "source": [
    "arr3.astype('float')"
   ]
  },
  {
   "cell_type": "code",
   "execution_count": 152,
   "id": "80fcdfd8-e26f-4b00-96dc-84abceab1eb3",
   "metadata": {},
   "outputs": [],
   "source": [
    "lista=(range(100))"
   ]
  },
  {
   "cell_type": "code",
   "execution_count": 70,
   "id": "3aa4e986-c424-4b7c-878f-b5f99258bd09",
   "metadata": {},
   "outputs": [
    {
     "data": {
      "text/plain": [
       "range(0, 100)"
      ]
     },
     "execution_count": 70,
     "metadata": {},
     "output_type": "execute_result"
    }
   ],
   "source": [
    "lista"
   ]
  },
  {
   "cell_type": "code",
   "execution_count": 71,
   "id": "be3d902c-6efa-44e4-b548-869248bf0df7",
   "metadata": {},
   "outputs": [],
   "source": [
    "arr4=np.arange(0,100)"
   ]
  },
  {
   "cell_type": "code",
   "execution_count": 74,
   "id": "8f1d4be2-a3b0-4dac-9ff2-6bdd2af24cda",
   "metadata": {},
   "outputs": [
    {
     "name": "stdout",
     "output_type": "stream",
     "text": [
      "2800\n"
     ]
    }
   ],
   "source": [
    "import sys\n",
    "print(sys.getsizeof(87)*len(lista))"
   ]
  },
  {
   "cell_type": "code",
   "execution_count": 75,
   "id": "d4b3ea4f-6dd8-46df-9da6-dcbc86c31a48",
   "metadata": {},
   "outputs": [
    {
     "name": "stdout",
     "output_type": "stream",
     "text": [
      "800\n"
     ]
    }
   ],
   "source": [
    "print(arr4.itemsize*arr4.size)"
   ]
  },
  {
   "cell_type": "code",
   "execution_count": 109,
   "id": "9513ebcb-c8dd-4ae8-979e-f4b802288ba3",
   "metadata": {},
   "outputs": [],
   "source": [
    "x=range(10000000)\n",
    "y=range(10000000,20000000)"
   ]
  },
  {
   "cell_type": "code",
   "execution_count": 110,
   "id": "9d1151fc-8693-43f4-8a64-b51e3a5217e6",
   "metadata": {},
   "outputs": [
    {
     "data": {
      "text/plain": [
       "range(0, 10000000)"
      ]
     },
     "execution_count": 110,
     "metadata": {},
     "output_type": "execute_result"
    }
   ],
   "source": [
    "x"
   ]
  },
  {
   "cell_type": "code",
   "execution_count": 111,
   "id": "c807c024-22e1-4e8d-ac11-defa247cf1b1",
   "metadata": {},
   "outputs": [
    {
     "data": {
      "text/plain": [
       "range(10000000, 20000000)"
      ]
     },
     "execution_count": 111,
     "metadata": {},
     "output_type": "execute_result"
    }
   ],
   "source": [
    "y"
   ]
  },
  {
   "cell_type": "code",
   "execution_count": 112,
   "id": "f701da44-49d9-40d0-9834-77f132c1842e",
   "metadata": {},
   "outputs": [],
   "source": [
    "import time\n",
    "start_time= time.time()"
   ]
  },
  {
   "cell_type": "code",
   "execution_count": 113,
   "id": "ed861036-e470-4c7c-9e13-8190bde0965e",
   "metadata": {},
   "outputs": [],
   "source": [
    "c=[(x,y) for x,y in zip(x,y)]"
   ]
  },
  {
   "cell_type": "code",
   "execution_count": 114,
   "id": "8fa99331-f314-48c2-85df-3e480369eea0",
   "metadata": {},
   "outputs": [
    {
     "name": "stdout",
     "output_type": "stream",
     "text": [
      "1.9481956958770752\n"
     ]
    }
   ],
   "source": [
    "print(time.time()-start_time)"
   ]
  },
  {
   "cell_type": "code",
   "execution_count": 115,
   "id": "776178dd-412c-476c-b86f-01e6d2372e2a",
   "metadata": {},
   "outputs": [],
   "source": [
    "import time\n",
    "start_time= time.time()"
   ]
  },
  {
   "cell_type": "code",
   "execution_count": 116,
   "id": "e5fbdf9b-ea25-4484-8605-55fd765f4011",
   "metadata": {},
   "outputs": [],
   "source": [
    "a=np.arange(10000000)\n",
    "b=np.arange(10000000,20000000)\n",
    "\n",
    "c=a+b"
   ]
  },
  {
   "cell_type": "code",
   "execution_count": 117,
   "id": "1ddeebda-01a1-443e-a206-6f42599d19cc",
   "metadata": {},
   "outputs": [
    {
     "name": "stdout",
     "output_type": "stream",
     "text": [
      "0.6759066581726074\n"
     ]
    }
   ],
   "source": [
    "print(time.time()-start_time)"
   ]
  },
  {
   "cell_type": "code",
   "execution_count": 153,
   "id": "9ab9cd43-fe0c-4226-bce6-761a5b8dbae0",
   "metadata": {},
   "outputs": [
    {
     "data": {
      "text/plain": [
       "array([1, 2, 3, 4, 5, 6])"
      ]
     },
     "execution_count": 153,
     "metadata": {},
     "output_type": "execute_result"
    }
   ],
   "source": [
    "arr1"
   ]
  },
  {
   "cell_type": "code",
   "execution_count": 159,
   "id": "ed2aca36-7758-45b8-bb53-7055d449702c",
   "metadata": {},
   "outputs": [
    {
     "data": {
      "text/plain": [
       "array([3, 4])"
      ]
     },
     "execution_count": 159,
     "metadata": {},
     "output_type": "execute_result"
    }
   ],
   "source": [
    "arr1[2:4]"
   ]
  },
  {
   "cell_type": "code",
   "execution_count": 160,
   "id": "ddc546a9-8664-4a49-a546-51b6e1c3cd4c",
   "metadata": {},
   "outputs": [],
   "source": [
    "arr10=np.arange(24).reshape(4,6)"
   ]
  },
  {
   "cell_type": "code",
   "execution_count": 161,
   "id": "3a8fcb3b-afd5-4ed4-8211-92b6d8ac6316",
   "metadata": {},
   "outputs": [
    {
     "data": {
      "text/plain": [
       "array([[ 0,  1,  2,  3,  4,  5],\n",
       "       [ 6,  7,  8,  9, 10, 11],\n",
       "       [12, 13, 14, 15, 16, 17],\n",
       "       [18, 19, 20, 21, 22, 23]])"
      ]
     },
     "execution_count": 161,
     "metadata": {},
     "output_type": "execute_result"
    }
   ],
   "source": [
    "arr10"
   ]
  },
  {
   "cell_type": "code",
   "execution_count": 188,
   "id": "489d369d-fbf7-405f-83e9-0099a0d340e5",
   "metadata": {},
   "outputs": [
    {
     "name": "stdout",
     "output_type": "stream",
     "text": [
      "[20 30 40]\n",
      "[10 20 30]\n",
      "[10 30 50]\n",
      "[50 40 30 20 10]\n"
     ]
    }
   ],
   "source": [
    "arr = np.array([10, 20, 30, 40, 50])\n",
    "\n",
    "print(arr[1:4])    # [20 30 40]\n",
    "print(arr[:3])     # [10 20 30]\n",
    "print(arr[::2])    # [10 30 50] (step of 2)\n",
    "print(arr[::-1])   # [50 40 30 20 10] (reversed)"
   ]
  },
  {
   "cell_type": "code",
   "execution_count": 195,
   "id": "b04bc2f1-0300-4b8b-96c2-fff19abce48e",
   "metadata": {},
   "outputs": [
    {
     "name": "stdout",
     "output_type": "stream",
     "text": [
      "[[0 1 2]\n",
      " [6 7 8]]\n",
      "[[15 16 17]\n",
      " [21 22 23]]\n",
      "[[ 8  9 10]\n",
      " [14 15 16]]\n"
     ]
    }
   ],
   "source": [
    "print(arr10[0:2, 0:3])   # Top-left 2x3 matrix)\n",
    "\n",
    "\n",
    "print(arr10[2:, 3:])     # Bottom-right 2x3 matrix\n",
    "\n",
    "print(arr10[1:3, 2:5])   # Middle section\n"
   ]
  },
  {
   "cell_type": "code",
   "execution_count": 162,
   "id": "574f2aad-b2e4-48e1-8e4d-2543bc9ed65a",
   "metadata": {},
   "outputs": [
    {
     "data": {
      "text/plain": [
       "array([[16, 17],\n",
       "       [22, 23]])"
      ]
     },
     "execution_count": 162,
     "metadata": {},
     "output_type": "execute_result"
    }
   ],
   "source": [
    "arr10[2:,4:]"
   ]
  },
  {
   "cell_type": "code",
   "execution_count": 187,
   "id": "f655d163-1279-4231-abb8-810c77c18453",
   "metadata": {},
   "outputs": [
    {
     "name": "stdout",
     "output_type": "stream",
     "text": [
      "1\n",
      "8\n"
     ]
    }
   ],
   "source": [
    "print(arr10[0, 1])  # 2 (row 0, column 1)\n",
    "print(arr10[1, 2])  # 6 (row 1, column 2)"
   ]
  },
  {
   "cell_type": "code",
   "execution_count": 163,
   "id": "08cb613e-56c8-46e3-b7a6-602659369fe1",
   "metadata": {},
   "outputs": [
    {
     "name": "stdout",
     "output_type": "stream",
     "text": [
      "0\n",
      "1\n",
      "2\n",
      "3\n",
      "4\n",
      "5\n",
      "6\n",
      "7\n",
      "8\n",
      "9\n",
      "10\n",
      "11\n",
      "12\n",
      "13\n",
      "14\n",
      "15\n",
      "16\n",
      "17\n",
      "18\n",
      "19\n",
      "20\n",
      "21\n",
      "22\n",
      "23\n"
     ]
    }
   ],
   "source": [
    "for i in np.nditer(arr10):\n",
    "    print(i)"
   ]
  },
  {
   "cell_type": "code",
   "execution_count": 164,
   "id": "c03480f8-0eba-43be-b647-c3c3706721e5",
   "metadata": {},
   "outputs": [],
   "source": [
    "import numpy as np\n"
   ]
  },
  {
   "cell_type": "code",
   "execution_count": 165,
   "id": "29665cb8-bd92-4fc1-9e4e-7f6e6196dc49",
   "metadata": {},
   "outputs": [],
   "source": [
    "A = np.array([[10, 20], [30, 40]])\n",
    "B = np.array([[1, 2], [3, 4]])"
   ]
  },
  {
   "cell_type": "code",
   "execution_count": 166,
   "id": "24355320-12a3-424a-8eda-7cc8260be10d",
   "metadata": {},
   "outputs": [
    {
     "name": "stdout",
     "output_type": "stream",
     "text": [
      "[[ 9 18]\n",
      " [27 36]]\n"
     ]
    }
   ],
   "source": [
    "print(A - B)          #Element-wise Subtraction\n"
   ]
  },
  {
   "cell_type": "code",
   "execution_count": 167,
   "id": "2aeff5a9-2e05-470b-8f52-0e94f2e82409",
   "metadata": {},
   "outputs": [
    {
     "name": "stdout",
     "output_type": "stream",
     "text": [
      "[[ 1  4]\n",
      " [ 9 16]]\n"
     ]
    }
   ],
   "source": [
    "print(B ** 2)     # Element-wise Power"
   ]
  },
  {
   "cell_type": "code",
   "execution_count": 168,
   "id": "62ecd874-1d99-4289-af2d-69403327974e",
   "metadata": {},
   "outputs": [
    {
     "name": "stdout",
     "output_type": "stream",
     "text": [
      "[[ True  True]\n",
      " [ True False]]\n"
     ]
    }
   ],
   "source": [
    "print(A < 35)      #Boolean Comparison"
   ]
  },
  {
   "cell_type": "code",
   "execution_count": 169,
   "id": "8a141119-22a8-4a91-8fbc-652f5c433be3",
   "metadata": {},
   "outputs": [
    {
     "name": "stdout",
     "output_type": "stream",
     "text": [
      "[[ 10  40]\n",
      " [ 90 160]]\n"
     ]
    }
   ],
   "source": [
    "print(A * B)      #Element-wise Multiplication"
   ]
  },
  {
   "cell_type": "code",
   "execution_count": 170,
   "id": "50e03f48-079f-4f18-ae2e-99b5f2648da1",
   "metadata": {},
   "outputs": [
    {
     "name": "stdout",
     "output_type": "stream",
     "text": [
      "[[ 70 100]\n",
      " [150 220]]\n"
     ]
    }
   ],
   "source": [
    "print(A.dot(B))    #Matrix Multiplication"
   ]
  },
  {
   "cell_type": "code",
   "execution_count": 173,
   "id": "c602bffe-0ff3-4167-8b1d-4ac2145b2441",
   "metadata": {},
   "outputs": [
    {
     "name": "stdout",
     "output_type": "stream",
     "text": [
      "10\n",
      "[10 20]\n",
      "[10 30]\n"
     ]
    }
   ],
   "source": [
    "print(A.min()) #Minimum Element\n",
    "print(A.min(axis=0))\n",
    "print(A.min(axis=1))"
   ]
  },
  {
   "cell_type": "code",
   "execution_count": 175,
   "id": "b07ca661-7111-413c-8192-3ac98a179cd8",
   "metadata": {},
   "outputs": [
    {
     "name": "stdout",
     "output_type": "stream",
     "text": [
      "40\n",
      "[30 40]\n",
      "[20 40]\n"
     ]
    }
   ],
   "source": [
    "print(A.max()) #Maximun Element\n",
    "print(A.max(axis=0))\n",
    "print(A.max(axis=1))"
   ]
  },
  {
   "cell_type": "code",
   "execution_count": 179,
   "id": "e8e136a2-c778-4f74-a686-3e4f7990b68b",
   "metadata": {},
   "outputs": [
    {
     "name": "stdout",
     "output_type": "stream",
     "text": [
      "100\n",
      "[40 60]\n",
      "[30 70]\n"
     ]
    }
   ],
   "source": [
    "print(A.sum())         #Sum of elements\n",
    "print(A.sum(axis=0))\n",
    "print(A.sum(axis=1))"
   ]
  },
  {
   "cell_type": "code",
   "execution_count": 182,
   "id": "a8d2a808-4853-4638-8cfe-aa21116c2f93",
   "metadata": {},
   "outputs": [
    {
     "name": "stdout",
     "output_type": "stream",
     "text": [
      "[[ 2.71828183  7.3890561 ]\n",
      " [20.08553692 54.59815003]]\n"
     ]
    }
   ],
   "source": [
    "print(np.exp(B))   #Exponental"
   ]
  },
  {
   "cell_type": "code",
   "execution_count": 183,
   "id": "ded5482f-e1b7-4708-ac03-5e877b772dd4",
   "metadata": {},
   "outputs": [
    {
     "data": {
      "text/plain": [
       "array([[3.16227766, 4.47213595],\n",
       "       [5.47722558, 6.32455532]])"
      ]
     },
     "execution_count": 183,
     "metadata": {},
     "output_type": "execute_result"
    }
   ],
   "source": [
    "np.sqrt(A)       # Square Root"
   ]
  },
  {
   "cell_type": "code",
   "execution_count": 184,
   "id": "be120133-a588-47a7-91b6-d15fbf89a64e",
   "metadata": {},
   "outputs": [
    {
     "data": {
      "text/plain": [
       "array([[-0.54402111,  0.91294525],\n",
       "       [-0.98803162,  0.74511316]])"
      ]
     },
     "execution_count": 184,
     "metadata": {},
     "output_type": "execute_result"
    }
   ],
   "source": [
    "np.sin(A) # Sine Function"
   ]
  },
  {
   "cell_type": "code",
   "execution_count": 185,
   "id": "88111aea-b1a0-4146-8922-a1c91b49633b",
   "metadata": {},
   "outputs": [
    {
     "name": "stdout",
     "output_type": "stream",
     "text": [
      "[1 2 3]\n"
     ]
    }
   ],
   "source": [
    "arr = np.array([1.5, 2.5, 3.5])\n",
    "print(arr.astype(int))"
   ]
  },
  {
   "cell_type": "code",
   "execution_count": 197,
   "id": "ccea7a73-1f45-4495-a41d-fb5577786b84",
   "metadata": {},
   "outputs": [
    {
     "data": {
      "text/plain": [
       "array([[1., 0., 0., 0., 0.],\n",
       "       [0., 1., 0., 0., 0.],\n",
       "       [0., 0., 1., 0., 0.],\n",
       "       [0., 0., 0., 1., 0.],\n",
       "       [0., 0., 0., 0., 1.]])"
      ]
     },
     "execution_count": 197,
     "metadata": {},
     "output_type": "execute_result"
    }
   ],
   "source": [
    "arr4"
   ]
  },
  {
   "cell_type": "markdown",
   "id": "3c40966c-a581-419c-b76d-71fb2ee86447",
   "metadata": {},
   "source": [
    "#### "
   ]
  },
  {
   "cell_type": "code",
   "execution_count": 199,
   "id": "4935c644-0755-4eff-b1e7-4e857f82bbc4",
   "metadata": {},
   "outputs": [
    {
     "data": {
      "text/plain": [
       "2"
      ]
     },
     "execution_count": 199,
     "metadata": {},
     "output_type": "execute_result"
    }
   ],
   "source": [
    "arr4.ndim"
   ]
  },
  {
   "cell_type": "code",
   "execution_count": 202,
   "id": "24ddd176-856a-4596-a744-0239eaebd982",
   "metadata": {},
   "outputs": [
    {
     "data": {
      "text/plain": [
       "array([1., 0., 0., 0., 0., 0., 1., 0., 0., 0., 0., 0., 1., 0., 0., 0., 0.,\n",
       "       0., 1., 0., 0., 0., 0., 0., 1.])"
      ]
     },
     "execution_count": 202,
     "metadata": {},
     "output_type": "execute_result"
    }
   ],
   "source": [
    "arr4.ravel()"
   ]
  },
  {
   "cell_type": "code",
   "execution_count": 204,
   "id": "1c5d9203-39ad-4178-bd8a-b76fcf7fc3ce",
   "metadata": {},
   "outputs": [
    {
     "data": {
      "text/plain": [
       "array([[10, 30],\n",
       "       [20, 40]])"
      ]
     },
     "execution_count": 204,
     "metadata": {},
     "output_type": "execute_result"
    }
   ],
   "source": [
    "A.transpose()"
   ]
  },
  {
   "cell_type": "code",
   "execution_count": 208,
   "id": "75cc0d43-5e64-4544-a016-3dd2106d1afb",
   "metadata": {},
   "outputs": [
    {
     "name": "stdout",
     "output_type": "stream",
     "text": [
      "[[10 20]\n",
      " [30 40]]\n",
      "[[1 2]\n",
      " [3 4]]\n"
     ]
    }
   ],
   "source": [
    "print(A)\n",
    "print(B)"
   ]
  },
  {
   "cell_type": "code",
   "execution_count": 216,
   "id": "5639b603-0285-4a6b-bf10-0a5ecf1d6696",
   "metadata": {},
   "outputs": [],
   "source": [
    "C=np.hstack((A,B))"
   ]
  },
  {
   "cell_type": "code",
   "execution_count": 217,
   "id": "a1285955-51d2-4e34-981d-37c5766b7431",
   "metadata": {},
   "outputs": [
    {
     "data": {
      "text/plain": [
       "array([[10, 20,  1,  2],\n",
       "       [30, 40,  3,  4]])"
      ]
     },
     "execution_count": 217,
     "metadata": {},
     "output_type": "execute_result"
    }
   ],
   "source": [
    "C"
   ]
  },
  {
   "cell_type": "code",
   "execution_count": 209,
   "id": "c785c903-f5a9-49bd-88c8-a0424fd68f4a",
   "metadata": {},
   "outputs": [
    {
     "data": {
      "text/plain": [
       "2"
      ]
     },
     "execution_count": 209,
     "metadata": {},
     "output_type": "execute_result"
    }
   ],
   "source": [
    "C.ndim"
   ]
  },
  {
   "cell_type": "code",
   "execution_count": 210,
   "id": "8aa45253-16ac-4bc7-a162-5f034ff40954",
   "metadata": {},
   "outputs": [],
   "source": [
    "D=np.vstack((A,B))"
   ]
  },
  {
   "cell_type": "code",
   "execution_count": 211,
   "id": "dcf90677-1fcf-40cb-90ab-07dafc13d934",
   "metadata": {},
   "outputs": [
    {
     "data": {
      "text/plain": [
       "array([[10, 20],\n",
       "       [30, 40],\n",
       "       [ 1,  2],\n",
       "       [ 3,  4]])"
      ]
     },
     "execution_count": 211,
     "metadata": {},
     "output_type": "execute_result"
    }
   ],
   "source": [
    "D"
   ]
  },
  {
   "cell_type": "code",
   "execution_count": 221,
   "id": "a6b46d2d-d9d9-4a76-9c3f-95770d619e17",
   "metadata": {},
   "outputs": [
    {
     "data": {
      "text/plain": [
       "[array([[10, 20],\n",
       "        [30, 40]]),\n",
       " array([[1, 2],\n",
       "        [3, 4]])]"
      ]
     },
     "execution_count": 221,
     "metadata": {},
     "output_type": "execute_result"
    }
   ],
   "source": [
    "np.hsplit(C,2)"
   ]
  },
  {
   "cell_type": "code",
   "execution_count": 215,
   "id": "b69b006c-44fd-4166-ae40-33b140731dd2",
   "metadata": {},
   "outputs": [
    {
     "data": {
      "text/plain": [
       "[array([[10, 20],\n",
       "        [30, 40]]),\n",
       " array([[1, 2],\n",
       "        [3, 4]])]"
      ]
     },
     "execution_count": 215,
     "metadata": {},
     "output_type": "execute_result"
    }
   ],
   "source": [
    "np.vsplit(D,2)"
   ]
  },
  {
   "cell_type": "code",
   "execution_count": 223,
   "id": "50283c83-ffaa-44c3-943c-4984184569d3",
   "metadata": {},
   "outputs": [
    {
     "data": {
      "text/plain": [
       "array([[ 0,  1,  2,  3],\n",
       "       [ 4,  5,  6,  7],\n",
       "       [ 8,  9, 10, 11],\n",
       "       [12, 13, 14, 15],\n",
       "       [16, 17, 18, 19],\n",
       "       [20, 21, 22, 23]])"
      ]
     },
     "execution_count": 223,
     "metadata": {},
     "output_type": "execute_result"
    }
   ],
   "source": [
    "arr13= np.arange(24).reshape(6,4)\n",
    "arr13"
   ]
  },
  {
   "cell_type": "code",
   "execution_count": 225,
   "id": "0390a1d2-a8c3-4cd5-baa9-abeb9bc1a150",
   "metadata": {},
   "outputs": [
    {
     "data": {
      "text/plain": [
       "array([[ 8,  9, 10, 11],\n",
       "       [16, 17, 18, 19],\n",
       "       [20, 21, 22, 23]])"
      ]
     },
     "execution_count": 225,
     "metadata": {},
     "output_type": "execute_result"
    }
   ],
   "source": [
    "arr13[[2,4,5]]     #Fancy Indexing"
   ]
  },
  {
   "cell_type": "code",
   "execution_count": 226,
   "id": "38c077d2-a593-4af9-ad36-4e7b309c3d82",
   "metadata": {},
   "outputs": [],
   "source": [
    "arr14= np.random.randint(low=10,high=100,size=20).reshape(4,5)"
   ]
  },
  {
   "cell_type": "code",
   "execution_count": 227,
   "id": "76d0bee4-feda-45e1-a451-c7f154de8e67",
   "metadata": {},
   "outputs": [
    {
     "data": {
      "text/plain": [
       "array([[92, 65, 20, 31, 87],\n",
       "       [73, 33, 39, 65, 96],\n",
       "       [12, 72, 26, 73, 76],\n",
       "       [29, 76, 72, 66, 60]], dtype=int32)"
      ]
     },
     "execution_count": 227,
     "metadata": {},
     "output_type": "execute_result"
    }
   ],
   "source": [
    "arr14"
   ]
  },
  {
   "cell_type": "code",
   "execution_count": 230,
   "id": "f4c62bb8-9479-4325-9b35-6ef85e991511",
   "metadata": {},
   "outputs": [
    {
     "data": {
      "text/plain": [
       "array([92, 65, 87, 73, 65, 96, 72, 73, 76, 76, 72, 66, 60], dtype=int32)"
      ]
     },
     "execution_count": 230,
     "metadata": {},
     "output_type": "execute_result"
    }
   ],
   "source": [
    "arr14[arr14>50]"
   ]
  },
  {
   "cell_type": "code",
   "execution_count": 232,
   "id": "d27dacf3-bb30-47cd-b306-c1ed4b7e05a4",
   "metadata": {},
   "outputs": [
    {
     "data": {
      "text/plain": [
       "array([92, 87, 73, 96, 72, 73, 76, 76, 72], dtype=int32)"
      ]
     },
     "execution_count": 232,
     "metadata": {},
     "output_type": "execute_result"
    }
   ],
   "source": [
    "arr14[(arr14>70) & (arr14 !=0)]"
   ]
  },
  {
   "cell_type": "code",
   "execution_count": 233,
   "id": "9dbd33e0-deb6-4121-a70d-e55182a40513",
   "metadata": {},
   "outputs": [],
   "source": [
    "arr14[(arr14>70) & (arr14 !=0)]=0"
   ]
  },
  {
   "cell_type": "code",
   "execution_count": 234,
   "id": "69b6f4c7-c015-4544-880e-ff8caaf7ad70",
   "metadata": {},
   "outputs": [
    {
     "data": {
      "text/plain": [
       "array([[ 0, 65, 20, 31,  0],\n",
       "       [ 0, 33, 39, 65,  0],\n",
       "       [12,  0, 26,  0,  0],\n",
       "       [29,  0,  0, 66, 60]], dtype=int32)"
      ]
     },
     "execution_count": 234,
     "metadata": {},
     "output_type": "execute_result"
    }
   ],
   "source": [
    "arr14"
   ]
  },
  {
   "cell_type": "code",
   "execution_count": null,
   "id": "fecef53e-4c30-458a-bafd-df8e0ac1ff7d",
   "metadata": {},
   "outputs": [],
   "source": []
  }
 ],
 "metadata": {
  "kernelspec": {
   "display_name": "Python 3 (ipykernel)",
   "language": "python",
   "name": "python3"
  },
  "language_info": {
   "codemirror_mode": {
    "name": "ipython",
    "version": 3
   },
   "file_extension": ".py",
   "mimetype": "text/x-python",
   "name": "python",
   "nbconvert_exporter": "python",
   "pygments_lexer": "ipython3",
   "version": "3.13.3"
  }
 },
 "nbformat": 4,
 "nbformat_minor": 5
}
